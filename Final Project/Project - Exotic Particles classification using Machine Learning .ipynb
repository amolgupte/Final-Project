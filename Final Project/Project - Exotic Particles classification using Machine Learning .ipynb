{
 "cells": [
  {
   "cell_type": "code",
   "execution_count": 50,
   "metadata": {},
   "outputs": [],
   "source": [
    "#import libraries\n",
    "import pandas as pd\n",
    "import numpy as np\n",
    "import matplotlib.pyplot as plt\n",
    "import seaborn as sns\n",
    "\n",
    "#sklearn\n",
    "import sklearn\n",
    "\n",
    "#Data preprocessing\n",
    "from sklearn.preprocessing import StandardScaler\n",
    "from sklearn.model_selection import train_test_split\n",
    "\n",
    "#metrics\n",
    "from sklearn.metrics import confusion_matrix, roc_curve, accuracy_score"
   ]
  },
  {
   "cell_type": "markdown",
   "metadata": {},
   "source": [
    "## Read the data"
   ]
  },
  {
   "cell_type": "code",
   "execution_count": 52,
   "metadata": {},
   "outputs": [
    {
     "name": "stdout",
     "output_type": "stream",
     "text": [
      "(500000, 30)\n"
     ]
    }
   ],
   "source": [
    "#Read the data\n",
    "HEPMASS = pd.read_csv('train_new_data.csv')\n",
    "print(HEPMASS.shape)"
   ]
  },
  {
   "cell_type": "markdown",
   "metadata": {},
   "source": [
    "## Split the data : 80/20 for training and testing."
   ]
  },
  {
   "cell_type": "code",
   "execution_count": 54,
   "metadata": {},
   "outputs": [],
   "source": [
    "\n",
    "column = HEPMASS.columns\n",
    "\n",
    "#Training data\n",
    "Xtrain = HEPMASS.iloc[1:400000,:].drop(column[0:2], axis=1)\n",
    "ytrain = HEPMASS[column[1]].iloc[1:400000]\n",
    "\n",
    "#Testing data\n",
    "Xtest = HEPMASS.iloc[400000:,:].drop(column[0:2], axis=1)\n",
    "ytest = HEPMASS[column[1]].iloc[400000:]\n",
    "\n"
   ]
  },
  {
   "cell_type": "code",
   "execution_count": 55,
   "metadata": {},
   "outputs": [],
   "source": [
    "#Preprocess the data \n",
    "from sklearn import preprocessing\n",
    "scaler = preprocessing.StandardScaler()\n",
    "Xtrain = scaler.fit_transform(Xtrain)\n",
    "Xtest  = scaler.transform(Xtest)"
   ]
  },
  {
   "cell_type": "code",
   "execution_count": 56,
   "metadata": {},
   "outputs": [
    {
     "name": "stdout",
     "output_type": "stream",
     "text": [
      "(399999, 28)\n"
     ]
    }
   ],
   "source": [
    "print(Xtrain.shape)"
   ]
  },
  {
   "cell_type": "markdown",
   "metadata": {},
   "source": [
    "## Neural Network"
   ]
  },
  {
   "cell_type": "code",
   "execution_count": 57,
   "metadata": {},
   "outputs": [],
   "source": [
    "import tensorflow as tf\n",
    "from tensorflow.keras.models import Sequential\n",
    "from tensorflow.keras.layers import Dense, Dropout\n"
   ]
  },
  {
   "cell_type": "code",
   "execution_count": 58,
   "metadata": {},
   "outputs": [],
   "source": [
    "#-------Construct model-------------------#\n",
    "model = Sequential()\n",
    "model.add(Dense(units=512,\n",
    "                activation='relu', input_dim=28))\n",
    "model.add(Dropout(0.4))\n",
    "model.add(Dense(units=384,\n",
    "                activation='relu'))\n",
    "model.add(Dropout(0.2))\n",
    "model.add(Dense(units=256,\n",
    "                activation='relu'))\n",
    "model.add(Dropout(0.1))\n",
    "model.add(Dense(units=1,\n",
    "                activation='sigmoid'))"
   ]
  },
  {
   "cell_type": "code",
   "execution_count": 59,
   "metadata": {},
   "outputs": [
    {
     "name": "stdout",
     "output_type": "stream",
     "text": [
      "Model: \"sequential_2\"\n",
      "_________________________________________________________________\n",
      "Layer (type)                 Output Shape              Param #   \n",
      "=================================================================\n",
      "dense_8 (Dense)              (None, 512)               14848     \n",
      "_________________________________________________________________\n",
      "dropout_6 (Dropout)          (None, 512)               0         \n",
      "_________________________________________________________________\n",
      "dense_9 (Dense)              (None, 384)               196992    \n",
      "_________________________________________________________________\n",
      "dropout_7 (Dropout)          (None, 384)               0         \n",
      "_________________________________________________________________\n",
      "dense_10 (Dense)             (None, 256)               98560     \n",
      "_________________________________________________________________\n",
      "dropout_8 (Dropout)          (None, 256)               0         \n",
      "_________________________________________________________________\n",
      "dense_11 (Dense)             (None, 1)                 257       \n",
      "=================================================================\n",
      "Total params: 310,657\n",
      "Trainable params: 310,657\n",
      "Non-trainable params: 0\n",
      "_________________________________________________________________\n"
     ]
    }
   ],
   "source": [
    "model.summary()"
   ]
  },
  {
   "cell_type": "code",
   "execution_count": 60,
   "metadata": {},
   "outputs": [],
   "source": [
    "#Compile the data\n",
    "model.compile(optimizer='adam',\n",
    "              loss='mse',\n",
    "              metrics=['accuracy'])"
   ]
  },
  {
   "cell_type": "code",
   "execution_count": 61,
   "metadata": {},
   "outputs": [
    {
     "name": "stdout",
     "output_type": "stream",
     "text": [
      "Train on 359999 samples, validate on 40000 samples\n",
      "Epoch 1/50\n",
      "359999/359999 - 16s - loss: 0.1037 - accuracy: 0.8486 - val_loss: 0.0931 - val_accuracy: 0.8663\n",
      "Epoch 2/50\n",
      "359999/359999 - 16s - loss: 0.0951 - accuracy: 0.8619 - val_loss: 0.0915 - val_accuracy: 0.8688\n",
      "Epoch 3/50\n",
      "359999/359999 - 22s - loss: 0.0930 - accuracy: 0.8657 - val_loss: 0.0899 - val_accuracy: 0.8705\n",
      "Epoch 4/50\n",
      "359999/359999 - 17s - loss: 0.0913 - accuracy: 0.8691 - val_loss: 0.0887 - val_accuracy: 0.8739\n",
      "Epoch 5/50\n",
      "359999/359999 - 17s - loss: 0.0903 - accuracy: 0.8707 - val_loss: 0.0880 - val_accuracy: 0.8745\n",
      "Epoch 6/50\n",
      "359999/359999 - 18s - loss: 0.0894 - accuracy: 0.8722 - val_loss: 0.0873 - val_accuracy: 0.8757\n",
      "Epoch 7/50\n",
      "359999/359999 - 20s - loss: 0.0887 - accuracy: 0.8734 - val_loss: 0.0873 - val_accuracy: 0.8756\n",
      "Epoch 8/50\n",
      "359999/359999 - 18s - loss: 0.0881 - accuracy: 0.8745 - val_loss: 0.0867 - val_accuracy: 0.8774\n",
      "Epoch 9/50\n",
      "359999/359999 - 17s - loss: 0.0876 - accuracy: 0.8751 - val_loss: 0.0863 - val_accuracy: 0.8777\n",
      "Epoch 10/50\n",
      "359999/359999 - 16s - loss: 0.0873 - accuracy: 0.8757 - val_loss: 0.0863 - val_accuracy: 0.8776\n",
      "Epoch 11/50\n",
      "359999/359999 - 17s - loss: 0.0869 - accuracy: 0.8764 - val_loss: 0.0858 - val_accuracy: 0.8785\n",
      "Epoch 12/50\n",
      "359999/359999 - 20s - loss: 0.0864 - accuracy: 0.8774 - val_loss: 0.0859 - val_accuracy: 0.8788\n",
      "Epoch 13/50\n",
      "359999/359999 - 17s - loss: 0.0862 - accuracy: 0.8778 - val_loss: 0.0858 - val_accuracy: 0.8777\n",
      "Epoch 14/50\n",
      "359999/359999 - 17s - loss: 0.0858 - accuracy: 0.8784 - val_loss: 0.0857 - val_accuracy: 0.8787\n",
      "Epoch 15/50\n",
      "359999/359999 - 17s - loss: 0.0855 - accuracy: 0.8785 - val_loss: 0.0859 - val_accuracy: 0.8780\n",
      "Epoch 16/50\n",
      "359999/359999 - 20s - loss: 0.0852 - accuracy: 0.8791 - val_loss: 0.0859 - val_accuracy: 0.8774\n",
      "Epoch 17/50\n",
      "359999/359999 - 21s - loss: 0.0849 - accuracy: 0.8798 - val_loss: 0.0860 - val_accuracy: 0.8787\n",
      "Epoch 18/50\n",
      "359999/359999 - 18s - loss: 0.0847 - accuracy: 0.8803 - val_loss: 0.0856 - val_accuracy: 0.8793\n",
      "Epoch 19/50\n",
      "359999/359999 - 17s - loss: 0.0844 - accuracy: 0.8805 - val_loss: 0.0859 - val_accuracy: 0.8781\n",
      "Epoch 20/50\n",
      "359999/359999 - 16s - loss: 0.0842 - accuracy: 0.8811 - val_loss: 0.0854 - val_accuracy: 0.8784\n",
      "Epoch 21/50\n",
      "359999/359999 - 22s - loss: 0.0839 - accuracy: 0.8816 - val_loss: 0.0855 - val_accuracy: 0.8779\n",
      "Epoch 22/50\n",
      "359999/359999 - 16s - loss: 0.0838 - accuracy: 0.8814 - val_loss: 0.0855 - val_accuracy: 0.8788\n",
      "Epoch 23/50\n",
      "359999/359999 - 15s - loss: 0.0836 - accuracy: 0.8820 - val_loss: 0.0855 - val_accuracy: 0.8785\n",
      "Epoch 24/50\n",
      "359999/359999 - 15s - loss: 0.0834 - accuracy: 0.8824 - val_loss: 0.0855 - val_accuracy: 0.8786\n",
      "Epoch 25/50\n",
      "359999/359999 - 16s - loss: 0.0831 - accuracy: 0.8827 - val_loss: 0.0852 - val_accuracy: 0.8792\n",
      "Epoch 26/50\n",
      "359999/359999 - 18s - loss: 0.0828 - accuracy: 0.8831 - val_loss: 0.0854 - val_accuracy: 0.8795\n",
      "Epoch 27/50\n",
      "359999/359999 - 21s - loss: 0.0827 - accuracy: 0.8839 - val_loss: 0.0860 - val_accuracy: 0.8779\n",
      "Epoch 28/50\n",
      "359999/359999 - 16s - loss: 0.0826 - accuracy: 0.8838 - val_loss: 0.0856 - val_accuracy: 0.8774\n",
      "Epoch 29/50\n",
      "359999/359999 - 16s - loss: 0.0823 - accuracy: 0.8842 - val_loss: 0.0855 - val_accuracy: 0.8783\n",
      "Epoch 30/50\n",
      "359999/359999 - 21s - loss: 0.0820 - accuracy: 0.8844 - val_loss: 0.0858 - val_accuracy: 0.8778\n",
      "Epoch 31/50\n",
      "359999/359999 - 17s - loss: 0.0819 - accuracy: 0.8852 - val_loss: 0.0853 - val_accuracy: 0.8798\n",
      "Epoch 32/50\n",
      "359999/359999 - 16s - loss: 0.0818 - accuracy: 0.8852 - val_loss: 0.0856 - val_accuracy: 0.8777\n",
      "Epoch 33/50\n",
      "359999/359999 - 17s - loss: 0.0817 - accuracy: 0.8854 - val_loss: 0.0852 - val_accuracy: 0.8782\n",
      "Epoch 34/50\n",
      "359999/359999 - 15s - loss: 0.0813 - accuracy: 0.8858 - val_loss: 0.0859 - val_accuracy: 0.8787\n",
      "Epoch 35/50\n",
      "359999/359999 - 16s - loss: 0.0811 - accuracy: 0.8868 - val_loss: 0.0860 - val_accuracy: 0.8786\n",
      "Epoch 36/50\n",
      "359999/359999 - 18s - loss: 0.0809 - accuracy: 0.8866 - val_loss: 0.0858 - val_accuracy: 0.8790\n",
      "Epoch 37/50\n",
      "359999/359999 - 19s - loss: 0.0808 - accuracy: 0.8867 - val_loss: 0.0858 - val_accuracy: 0.8789\n",
      "Epoch 38/50\n",
      "359999/359999 - 17s - loss: 0.0806 - accuracy: 0.8872 - val_loss: 0.0857 - val_accuracy: 0.8781\n",
      "Epoch 39/50\n",
      "359999/359999 - 17s - loss: 0.0805 - accuracy: 0.8875 - val_loss: 0.0857 - val_accuracy: 0.8781\n",
      "Epoch 40/50\n",
      "359999/359999 - 20s - loss: 0.0803 - accuracy: 0.8876 - val_loss: 0.0857 - val_accuracy: 0.8787\n",
      "Epoch 41/50\n",
      "359999/359999 - 17s - loss: 0.0802 - accuracy: 0.8878 - val_loss: 0.0857 - val_accuracy: 0.8795\n",
      "Epoch 42/50\n",
      "359999/359999 - 16s - loss: 0.0800 - accuracy: 0.8881 - val_loss: 0.0859 - val_accuracy: 0.8777\n",
      "Epoch 43/50\n",
      "359999/359999 - 16s - loss: 0.0798 - accuracy: 0.8883 - val_loss: 0.0858 - val_accuracy: 0.8785\n",
      "Epoch 44/50\n",
      "359999/359999 - 16s - loss: 0.0799 - accuracy: 0.8881 - val_loss: 0.0860 - val_accuracy: 0.8779\n",
      "Epoch 45/50\n",
      "359999/359999 - 16s - loss: 0.0796 - accuracy: 0.8887 - val_loss: 0.0858 - val_accuracy: 0.8789\n",
      "Epoch 46/50\n",
      "359999/359999 - 17s - loss: 0.0794 - accuracy: 0.8891 - val_loss: 0.0864 - val_accuracy: 0.8776\n",
      "Epoch 47/50\n",
      "359999/359999 - 19s - loss: 0.0791 - accuracy: 0.8896 - val_loss: 0.0864 - val_accuracy: 0.8778\n",
      "Epoch 48/50\n",
      "359999/359999 - 16s - loss: 0.0792 - accuracy: 0.8894 - val_loss: 0.0863 - val_accuracy: 0.8781\n",
      "Epoch 49/50\n",
      "359999/359999 - 15s - loss: 0.0789 - accuracy: 0.8899 - val_loss: 0.0862 - val_accuracy: 0.8781\n",
      "Epoch 50/50\n",
      "359999/359999 - 14s - loss: 0.0785 - accuracy: 0.8908 - val_loss: 0.0863 - val_accuracy: 0.8779\n"
     ]
    }
   ],
   "source": [
    "#Train on the data\n",
    "history = model.fit(\n",
    "    Xtrain,\n",
    "    ytrain,\n",
    "    epochs=50,\n",
    "    batch_size=400,\n",
    "    shuffle=True,\n",
    "    validation_split=0.1,\n",
    "    verbose=2\n",
    ")"
   ]
  },
  {
   "cell_type": "code",
   "execution_count": 62,
   "metadata": {},
   "outputs": [
    {
     "name": "stdout",
     "output_type": "stream",
     "text": [
      "100000/100000 - 4s - loss: 0.0858 - accuracy: 0.8778\n",
      "Loss: 0.08581883184373379, Accuracy: 0.8778300285339355\n"
     ]
    }
   ],
   "source": [
    "model_loss, model_accuracy = model.evaluate(\n",
    "    Xtest, ytest, verbose=2)\n",
    "print(f\"Loss: {model_loss}, Accuracy: {model_accuracy}\")"
   ]
  },
  {
   "cell_type": "code",
   "execution_count": 63,
   "metadata": {},
   "outputs": [
    {
     "data": {
      "image/png": "[encoded data removed]",
      "text/plain": [
       "<Figure size 432x288 with 1 Axes>"
      ]
     },
     "metadata": {
      "needs_background": "light"
     },
     "output_type": "display_data"
    }
   ],
   "source": [
    "plt.plot(history.history['accuracy'])\n",
    "plt.plot(history.history['val_accuracy'])\n",
    "plt.title('Model Accuracy')\n",
    "plt.ylabel('Accuracy')\n",
    "plt.xlabel('Epoch')\n",
    "plt.legend(['Train','Validation'], loc = 'upper left')\n",
    "plt.show()"
   ]
  },
  {
   "cell_type": "code",
   "execution_count": 64,
   "metadata": {},
   "outputs": [
    {
     "data": {
      "image/png": "[encoded data removed]",
      "text/plain": [
       "<Figure size 432x288 with 1 Axes>"
      ]
     },
     "metadata": {
      "needs_background": "light"
     },
     "output_type": "display_data"
    }
   ],
   "source": [
    "loss = history.history['loss']\n",
    "validation_loss = history.history['val_loss']\n",
    "epochs = range(1,len(loss)+1)\n",
    "\n",
    "plt.plot(epochs, loss,label = 'Loss on Training data')\n",
    "plt.plot(epochs, validation_loss,label = 'Loss on validation data')\n",
    "plt.title('Training and validation Loss')\n",
    "plt.xlabel('Epochs')\n",
    "plt.ylabel('Loss')\n",
    "plt.legend()\n",
    "plt.show()"
   ]
  },
  {
   "cell_type": "code",
   "execution_count": 65,
   "metadata": {},
   "outputs": [
    {
     "name": "stdout",
     "output_type": "stream",
     "text": [
      "[[42291  7447]\n",
      " [ 4770 45492]]\n"
     ]
    },
    {
     "data": {
      "image/png": "[encoded data removed]",
      "text/plain": [
       "<Figure size 432x288 with 2 Axes>"
      ]
     },
     "metadata": {
      "needs_background": "light"
     },
     "output_type": "display_data"
    }
   ],
   "source": [
    "prediction = model.predict(Xtest)\n",
    "labels = ['No Exotic particles','Exotic Particles']\n",
    "conf_mat = confusion_matrix(ytest,prediction>0.5)\n",
    "print(conf_mat)\n",
    "fig = plt.figure()\n",
    "ax = fig.add_subplot(111)\n",
    "cax = ax.matshow(conf_mat)\n",
    "plt.title('Neural Networks')\n",
    "fig.colorbar(cax)\n",
    "ax.set_xticklabels([''] + labels)\n",
    "ax.set_yticklabels([''] + labels)\n",
    "plt.xlabel('Predicted')\n",
    "plt.ylabel('True')\n",
    "plt.show()"
   ]
  },
  {
   "cell_type": "markdown",
   "metadata": {},
   "source": [
    "### Precision = TP/(TP+FP) : Proportion of correctly classified reactions where exotic particles were not generated as compared to the predicted number of positives"
   ]
  },
  {
   "cell_type": "code",
   "execution_count": 66,
   "metadata": {},
   "outputs": [
    {
     "name": "stdout",
     "output_type": "stream",
     "text": [
      "0.8502754433230126\n"
     ]
    }
   ],
   "source": [
    "Precision = conf_mat[0][0]/(conf_mat[0][0]+conf_mat[0][1])\n",
    "print(Precision)"
   ]
  },
  {
   "cell_type": "markdown",
   "metadata": {},
   "source": [
    "### Recall  = TP/(TP+FN) : Proportion of correctly classified  reactions where exotic particles were not generated as compared to the actual number of positives"
   ]
  },
  {
   "cell_type": "code",
   "execution_count": 67,
   "metadata": {},
   "outputs": [
    {
     "name": "stdout",
     "output_type": "stream",
     "text": [
      "0.8986421877988143\n"
     ]
    }
   ],
   "source": [
    "Recall = conf_mat[0][0]/(conf_mat[0][0]+conf_mat[1][0])\n",
    "print(Recall)"
   ]
  },
  {
   "cell_type": "markdown",
   "metadata": {},
   "source": [
    "## Decision Tree"
   ]
  },
  {
   "cell_type": "code",
   "execution_count": 68,
   "metadata": {},
   "outputs": [],
   "source": [
    "#Decsion tree\n",
    "from sklearn import tree\n",
    "\n",
    "#Train Decision tree\n",
    "dec_tree = sklearn.tree.DecisionTreeClassifier(max_leaf_nodes=7000, max_depth=15)\n",
    "dec_tree.fit(Xtrain,ytrain)\n",
    "\n",
    "#Prediction using decision tree\n",
    "dec_tree_predict = dec_tree.predict(Xtest)\n",
    "dec_tree_predict_train = dec_tree.predict(Xtrain)"
   ]
  },
  {
   "cell_type": "markdown",
   "metadata": {},
   "source": [
    "### Accuracy for decision tree"
   ]
  },
  {
   "cell_type": "code",
   "execution_count": 69,
   "metadata": {},
   "outputs": [
    {
     "name": "stdout",
     "output_type": "stream",
     "text": [
      "Train Accuracy:  0.9074022685056713\n",
      "Confusion Matrix\n",
      "[[177134  22842]\n",
      " [ 14197 185826]]\n",
      "\n",
      "\n",
      "Test Accuraccy:  0.84571\n",
      "Confusion Matrix\n",
      "[[40919  8819]\n",
      " [ 6610 43652]]\n",
      "\n",
      "\n"
     ]
    }
   ],
   "source": [
    "#Results for Decision tree\n",
    "\n",
    "#Training data\n",
    "print('Train Accuracy: ', sklearn.metrics.accuracy_score(ytrain, dec_tree_predict_train))\n",
    "print(\"Confusion Matrix\")\n",
    "print(confusion_matrix(ytrain, dec_tree_predict_train))\n",
    "print('\\n')\n",
    "\n",
    "#Testing data\n",
    "dec_conf_mat = confusion_matrix(ytest, dec_tree_predict) \n",
    "print('Test Accuraccy: ', sklearn.metrics.accuracy_score(ytest, dec_tree_predict))\n",
    "print(\"Confusion Matrix\")\n",
    "print(dec_conf_mat)\n",
    "print('\\n')"
   ]
  },
  {
   "cell_type": "markdown",
   "metadata": {},
   "source": [
    "### Confusion matrix Analysis for Decision trees"
   ]
  },
  {
   "cell_type": "code",
   "execution_count": 71,
   "metadata": {},
   "outputs": [
    {
     "name": "stdout",
     "output_type": "stream",
     "text": [
      "[[40919  8819]\n",
      " [ 6610 43652]]\n"
     ]
    },
    {
     "data": {
      "image/png": "[encoded data removed]",
      "text/plain": [
       "<Figure size 432x288 with 2 Axes>"
      ]
     },
     "metadata": {
      "needs_background": "light"
     },
     "output_type": "display_data"
    },
    {
     "name": "stdout",
     "output_type": "stream",
     "text": [
      "Precision 0.8226909003176646\n",
      "Recall 0.8609270129815481\n"
     ]
    }
   ],
   "source": [
    "print(dec_conf_mat)\n",
    "\n",
    "labels = ['No Exotic particles','Exotic Particles']\n",
    "\n",
    "fig = plt.figure()\n",
    "ax = fig.add_subplot(111)\n",
    "dec_cax = ax.matshow(dec_conf_mat)\n",
    "plt.title('Confusion matrix')\n",
    "fig.colorbar(dec_cax)\n",
    "ax.set_xticklabels([''] + labels)\n",
    "ax.set_yticklabels([''] + labels)\n",
    "plt.title('Decision Trees')\n",
    "plt.xlabel('Predicted')\n",
    "plt.ylabel('True')\n",
    "plt.show()\n",
    "\n",
    "### Precision = TP/(TP+FP) : Proportion of correctly classified reactions where exotic particles were not generated as compared to the predicted number of positives\n",
    "\n",
    "dec_Precision = dec_conf_mat[0][0]/(dec_conf_mat[0][0]+dec_conf_mat[0][1])\n",
    "print(\"Precision \"+str(dec_Precision))\n",
    "\n",
    "### Recall  = TP/(TP+FN) : Proportion of correctly classified  reactions where exotic particles were not generated as compared to the actual number of positives\n",
    "\n",
    "dec_Recall = dec_conf_mat[0][0]/(dec_conf_mat[0][0]+dec_conf_mat[1][0])\n",
    "print(\"Recall \"+str(dec_Recall))"
   ]
  },
  {
   "cell_type": "markdown",
   "metadata": {},
   "source": [
    "## Random Forest"
   ]
  },
  {
   "cell_type": "code",
   "execution_count": 45,
   "metadata": {},
   "outputs": [],
   "source": [
    "#Random Forest \n",
    "from sklearn import ensemble\n",
    "rfclassifier = sklearn.ensemble.RandomForestClassifier(max_depth=15, n_estimators=150, max_leaf_nodes=10000) \n",
    "\n",
    "#Train Random Forest\n",
    "rfclassifier.fit(Xtrain,ytrain)\n",
    "\n",
    "#Predict on Random Forest\n",
    "rfclassifier_predict = rfclassifier.predict(Xtest)\n",
    "rfclassifier_predict_train = rfclassifier.predict(Xtrain)"
   ]
  },
  {
   "cell_type": "markdown",
   "metadata": {},
   "source": [
    "### Accuracy for Random Forest"
   ]
  },
  {
   "cell_type": "code",
   "execution_count": 46,
   "metadata": {},
   "outputs": [
    {
     "name": "stdout",
     "output_type": "stream",
     "text": [
      "Train Accuracy:  0.9126872817182043\n",
      "Confusion Matrix for training data\n",
      "[[179619  20357]\n",
      " [ 14568 185455]]\n",
      "\n",
      "\n",
      "Test Accuraccy:  0.8614\n",
      "Confusion Matrix for testing data\n",
      "[[41578  8160]\n",
      " [ 5700 44562]]\n",
      "\n",
      "\n"
     ]
    }
   ],
   "source": [
    "#Results for Random Forest\n",
    "\n",
    "#Training data\n",
    "print('Train Accuracy: ', sklearn.metrics.accuracy_score(ytrain, rfclassifier_predict_train))\n",
    "print(\"Confusion Matrix for training data\")\n",
    "print(confusion_matrix(ytrain, rfclassifier_predict_train))\n",
    "print('\\n')\n",
    "\n",
    "#Testing data\n",
    "rfclassifier_conf_mat = confusion_matrix(ytest, rfclassifier_predict)\n",
    "print('Test Accuraccy: ', sklearn.metrics.accuracy_score(ytest, rfclassifier_predict))\n",
    "print(\"Confusion Matrix for testing data\")\n",
    "print(rfclassifier_conf_mat)\n",
    "print('\\n')\n"
   ]
  },
  {
   "cell_type": "markdown",
   "metadata": {},
   "source": [
    "### Confusion Matrix for Random Forest"
   ]
  },
  {
   "cell_type": "code",
   "execution_count": 47,
   "metadata": {},
   "outputs": [
    {
     "name": "stdout",
     "output_type": "stream",
     "text": [
      "[[41578  8160]\n",
      " [ 5700 44562]]\n"
     ]
    },
    {
     "data": {
      "image/png": "[encoded data removed]",
      "text/plain": [
       "<Figure size 432x288 with 2 Axes>"
      ]
     },
     "metadata": {
      "needs_background": "light"
     },
     "output_type": "display_data"
    },
    {
     "name": "stdout",
     "output_type": "stream",
     "text": [
      "Precision0.8359403273151312\n",
      "Recall0.8794365243876644\n"
     ]
    }
   ],
   "source": [
    "print(rfclassifier_conf_mat)\n",
    "\n",
    "labels = ['No Exotic particles','Exotic Particles']\n",
    "\n",
    "fig = plt.figure()\n",
    "ax = fig.add_subplot(111)\n",
    "rfclassifier_cax = ax.matshow(rfclassifier_conf_mat)\n",
    "plt.title('Random Forest')\n",
    "fig.colorbar(rfclassifier_cax)\n",
    "ax.set_xticklabels([''] + labels)\n",
    "ax.set_yticklabels([''] + labels)\n",
    "plt.xlabel('Predicted')\n",
    "plt.ylabel('True')\n",
    "plt.show()\n",
    "\n",
    "### Precision = TP/(TP+FP) : Proportion of correctly classified reactions where exotic particles were not generated as compared to the predicted number of positives\n",
    "\n",
    "rfclassifier_Precision = rfclassifier_conf_mat[0][0]/(rfclassifier_conf_mat[0][0]+rfclassifier_conf_mat[0][1])\n",
    "print(\"Precision\"+ str(rfclassifier_Precision))\n",
    "\n",
    "### Recall  = TP/(TP+FN) : Proportion of correctly classified  reactions where exotic particles were not generated as compared to the actual number of positives\n",
    "\n",
    "rfclassifier_Recall = rfclassifier_conf_mat[0][0]/(rfclassifier_conf_mat[0][0]+rfclassifier_conf_mat[1][0])\n",
    "print(\"Recall\"+str(rfclassifier_Recall))"
   ]
  },
  {
   "cell_type": "code",
   "execution_count": null,
   "metadata": {},
   "outputs": [],
   "source": []
  }
 ],
 "metadata": {
  "kernelspec": {
   "display_name": "Python 3",
   "language": "python",
   "name": "python3"
  },
  "language_info": {
   "codemirror_mode": {
    "name": "ipython",
    "version": 3
   },
   "file_extension": ".py",
   "mimetype": "text/x-python",
   "name": "python",
   "nbconvert_exporter": "python",
   "pygments_lexer": "ipython3",
   "version": "3.7.4"
  }
 },
 "nbformat": 4,
 "nbformat_minor": 2
}
